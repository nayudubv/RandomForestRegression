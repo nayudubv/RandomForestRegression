{
 "cells": [
  {
   "cell_type": "code",
   "execution_count": 1,
   "id": "3c226d47",
   "metadata": {},
   "outputs": [],
   "source": [
    "import numpy as np\n",
    "import pandas as pd\n",
    "import matplotlib.pyplot as plt\n",
    "import seaborn as sns"
   ]
  },
  {
   "cell_type": "code",
   "execution_count": 2,
   "id": "c3af60aa",
   "metadata": {},
   "outputs": [],
   "source": [
    "semi_conductor_data=pd.read_csv(r'C:\\Users\\NAYUDU.B\\OneDrive\\Desktop\\ml _projects\\Semiconductor shortage affects.csv')"
   ]
  },
  {
   "cell_type": "code",
   "execution_count": 3,
   "id": "8241e80a",
   "metadata": {},
   "outputs": [
    {
     "data": {
      "text/html": [
       "<div>\n",
       "<style scoped>\n",
       "    .dataframe tbody tr th:only-of-type {\n",
       "        vertical-align: middle;\n",
       "    }\n",
       "\n",
       "    .dataframe tbody tr th {\n",
       "        vertical-align: top;\n",
       "    }\n",
       "\n",
       "    .dataframe thead th {\n",
       "        text-align: right;\n",
       "    }\n",
       "</style>\n",
       "<table border=\"1\" class=\"dataframe\">\n",
       "  <thead>\n",
       "    <tr style=\"text-align: right;\">\n",
       "      <th></th>\n",
       "      <th>DATE</th>\n",
       "      <th>Producer Price Index(By  Industry in $)</th>\n",
       "      <th>Export Price Index(End Use of semiconductors)</th>\n",
       "      <th>Import Price Index(in $ End Use of semiconductors)</th>\n",
       "      <th>No. of employed peoples in semiconductor industry</th>\n",
       "      <th>Export Price Index (End use excluding without semiconductors)</th>\n",
       "      <th>Relative Importance Weights (Contribution to the Total Industrial Production Index % WISE)</th>\n",
       "      <th>Import Price Index (End Use): Capital Goods, Excluding Computers, Peripherals, and Semiconductors</th>\n",
       "      <th>Export Price Index(End Use): Capital Goods, Excluding Computers, Peripherals, and Semiconductors</th>\n",
       "      <th>Industrial Production: Non-Energy Excluding Motor Vehicles &amp; Parts, Computers, Communications Equipment, and Semiconductors</th>\n",
       "    </tr>\n",
       "  </thead>\n",
       "  <tbody>\n",
       "    <tr>\n",
       "      <th>0</th>\n",
       "      <td>01-01-1985</td>\n",
       "      <td>100.5</td>\n",
       "      <td>.</td>\n",
       "      <td>.</td>\n",
       "      <td>670.8</td>\n",
       "      <td>.</td>\n",
       "      <td>5.5335</td>\n",
       "      <td>.</td>\n",
       "      <td>NaN</td>\n",
       "      <td>81.4300</td>\n",
       "    </tr>\n",
       "    <tr>\n",
       "      <th>1</th>\n",
       "      <td>01-02-1985</td>\n",
       "      <td>100.8</td>\n",
       "      <td>.</td>\n",
       "      <td>.</td>\n",
       "      <td>665.6</td>\n",
       "      <td>.</td>\n",
       "      <td>5.3861</td>\n",
       "      <td>.</td>\n",
       "      <td>NaN</td>\n",
       "      <td>81.4319</td>\n",
       "    </tr>\n",
       "    <tr>\n",
       "      <th>2</th>\n",
       "      <td>01-03-1985</td>\n",
       "      <td>100.9</td>\n",
       "      <td>169</td>\n",
       "      <td>141.6</td>\n",
       "      <td>660.9</td>\n",
       "      <td>223.9</td>\n",
       "      <td>5.3103</td>\n",
       "      <td>69.2</td>\n",
       "      <td>NaN</td>\n",
       "      <td>82.1699</td>\n",
       "    </tr>\n",
       "    <tr>\n",
       "      <th>3</th>\n",
       "      <td>01-04-1985</td>\n",
       "      <td>100.6</td>\n",
       "      <td>.</td>\n",
       "      <td>.</td>\n",
       "      <td>653.9</td>\n",
       "      <td>.</td>\n",
       "      <td>5.1255</td>\n",
       "      <td>.</td>\n",
       "      <td>NaN</td>\n",
       "      <td>81.9731</td>\n",
       "    </tr>\n",
       "    <tr>\n",
       "      <th>4</th>\n",
       "      <td>01-05-1985</td>\n",
       "      <td>100.1</td>\n",
       "      <td>.</td>\n",
       "      <td>.</td>\n",
       "      <td>647.2</td>\n",
       "      <td>.</td>\n",
       "      <td>5.0821</td>\n",
       "      <td>.</td>\n",
       "      <td>NaN</td>\n",
       "      <td>82.1311</td>\n",
       "    </tr>\n",
       "  </tbody>\n",
       "</table>\n",
       "</div>"
      ],
      "text/plain": [
       "         DATE  Producer Price Index(By  Industry in $)  \\\n",
       "0  01-01-1985                                    100.5   \n",
       "1  01-02-1985                                    100.8   \n",
       "2  01-03-1985                                    100.9   \n",
       "3  01-04-1985                                    100.6   \n",
       "4  01-05-1985                                    100.1   \n",
       "\n",
       "  Export Price Index(End Use of semiconductors)  \\\n",
       "0                                             .   \n",
       "1                                             .   \n",
       "2                                           169   \n",
       "3                                             .   \n",
       "4                                             .   \n",
       "\n",
       "  Import Price Index(in $ End Use of semiconductors)  \\\n",
       "0                                                  .   \n",
       "1                                                  .   \n",
       "2                                              141.6   \n",
       "3                                                  .   \n",
       "4                                                  .   \n",
       "\n",
       "   No. of employed peoples in semiconductor industry  \\\n",
       "0                                              670.8   \n",
       "1                                              665.6   \n",
       "2                                              660.9   \n",
       "3                                              653.9   \n",
       "4                                              647.2   \n",
       "\n",
       "  Export Price Index (End use excluding without semiconductors)  \\\n",
       "0                                                  .              \n",
       "1                                                  .              \n",
       "2                                              223.9              \n",
       "3                                                  .              \n",
       "4                                                  .              \n",
       "\n",
       "   Relative Importance Weights (Contribution to the Total Industrial Production Index % WISE)  \\\n",
       "0                                             5.5335                                            \n",
       "1                                             5.3861                                            \n",
       "2                                             5.3103                                            \n",
       "3                                             5.1255                                            \n",
       "4                                             5.0821                                            \n",
       "\n",
       "  Import Price Index (End Use): Capital Goods, Excluding Computers, Peripherals, and Semiconductors  \\\n",
       "0                                                  .                                                  \n",
       "1                                                  .                                                  \n",
       "2                                               69.2                                                  \n",
       "3                                                  .                                                  \n",
       "4                                                  .                                                  \n",
       "\n",
       "   Export Price Index(End Use): Capital Goods, Excluding Computers, Peripherals, and Semiconductors  \\\n",
       "0                                                NaN                                                  \n",
       "1                                                NaN                                                  \n",
       "2                                                NaN                                                  \n",
       "3                                                NaN                                                  \n",
       "4                                                NaN                                                  \n",
       "\n",
       "   Industrial Production: Non-Energy Excluding Motor Vehicles & Parts, Computers, Communications Equipment, and Semiconductors  \n",
       "0                                            81.4300                                                                            \n",
       "1                                            81.4319                                                                            \n",
       "2                                            82.1699                                                                            \n",
       "3                                            81.9731                                                                            \n",
       "4                                            82.1311                                                                            "
      ]
     },
     "execution_count": 3,
     "metadata": {},
     "output_type": "execute_result"
    }
   ],
   "source": [
    "semi_conductor_data.head()"
   ]
  },
  {
   "cell_type": "code",
   "execution_count": 4,
   "id": "9552e7b3",
   "metadata": {},
   "outputs": [],
   "source": [
    "semi_conductor_data.rename(columns={'Producer Price Index(By Industry in $)':'Producer Price Index',\n",
    "                                    \n",
    "                                   'Export Price Index(End Use of semiconductors)':'Export Price Index',\n",
    "                                    \n",
    "                                   'Import Price Index(in $ End Use of semiconductors)':'Import Price Index',\n",
    "                                    \n",
    "                                   'No. of employed peoples in semiconductor industry':'No_of_employees_industry',\n",
    "                                    \n",
    "                                   'Export Price Index (End use excluding without semiconductors)':'Export Price Index_without semi_conductors',\n",
    "                                    \n",
    "                                   'Relative Importance Weights (Contribution to the Total Industrial Production Index % WISE)':'Relative Importance Weights_% wise',\n",
    "                                    \n",
    "                                   'Import Price Index (End Use): Capital Goods, Excluding Computers, Peripherals, and Semiconductors':'Import Price Index_all(End Use)',\n",
    "                                    \n",
    "                                   'Export Price Index(End Use): Capital Goods, Excluding Computers, Peripherals, and Semiconductors':'Export Price Index_all(End Use)',\n",
    "                                    \n",
    "                                   'Industrial Production: Non-Energy Excluding Motor Vehicles & Parts, Computers, Communications Equipment, and Semiconductors':'Industrial Production(all)'},inplace=True)"
   ]
  },
  {
   "cell_type": "code",
   "execution_count": 5,
   "id": "4863a5c7",
   "metadata": {},
   "outputs": [
    {
     "data": {
      "text/plain": [
       "DATE                                            0\n",
       "Producer Price Index(By  Industry in $)         0\n",
       "Export Price Index                              1\n",
       "Import Price Index                              1\n",
       "No_of_employees_industry                        0\n",
       "Export Price Index_without semi_conductors      1\n",
       "Relative Importance Weights_% wise              1\n",
       "Import Price Index_all(End Use)                 1\n",
       "Export Price Index_all(End Use)               204\n",
       "Industrial Production(all)                      1\n",
       "dtype: int64"
      ]
     },
     "execution_count": 5,
     "metadata": {},
     "output_type": "execute_result"
    }
   ],
   "source": [
    "semi_conductor_data.isna().sum()"
   ]
  },
  {
   "cell_type": "code",
   "execution_count": 6,
   "id": "19ad9bbb",
   "metadata": {},
   "outputs": [
    {
     "data": {
      "text/plain": [
       "DATE                                           object\n",
       "Producer Price Index(By  Industry in $)       float64\n",
       "Export Price Index                             object\n",
       "Import Price Index                             object\n",
       "No_of_employees_industry                      float64\n",
       "Export Price Index_without semi_conductors     object\n",
       "Relative Importance Weights_% wise            float64\n",
       "Import Price Index_all(End Use)                object\n",
       "Export Price Index_all(End Use)               float64\n",
       "Industrial Production(all)                    float64\n",
       "dtype: object"
      ]
     },
     "execution_count": 6,
     "metadata": {},
     "output_type": "execute_result"
    }
   ],
   "source": [
    "semi_conductor_data.dtypes"
   ]
  },
  {
   "cell_type": "code",
   "execution_count": 7,
   "id": "a49a8fc6",
   "metadata": {},
   "outputs": [],
   "source": [
    "semi_conductor_data['Export Price Index'].replace(to_replace='.',value='0',inplace=True)"
   ]
  },
  {
   "cell_type": "code",
   "execution_count": 8,
   "id": "93098b46",
   "metadata": {},
   "outputs": [],
   "source": [
    "semi_conductor_data['Export Price Index']=semi_conductor_data['Export Price Index'].astype(float)\n",
    "semi_conductor_data['Export Price Index'].fillna(semi_conductor_data['Export Price Index'].mean(),inplace=True)\n",
    "semi_conductor_data['Export Price Index'].replace(to_replace=0.0,value=73.746,inplace=True)"
   ]
  },
  {
   "cell_type": "code",
   "execution_count": 9,
   "id": "78ac8282",
   "metadata": {},
   "outputs": [],
   "source": [
    "semi_conductor_data['Import Price Index'].replace(to_replace='.',value='0',inplace=True)\n",
    "semi_conductor_data['Import Price Index']=semi_conductor_data['Import Price Index'].astype(float)\n",
    "semi_conductor_data['Import Price Index'].fillna(semi_conductor_data['Import Price Index'].mean(),inplace=True)\n",
    "semi_conductor_data['Import Price Index'].replace(to_replace=0.0,value=77.712,inplace=True)"
   ]
  },
  {
   "cell_type": "code",
   "execution_count": 10,
   "id": "998ca0c7",
   "metadata": {},
   "outputs": [],
   "source": [
    "semi_conductor_data['Export Price Index_without semi_conductors'].replace(to_replace='.',value='0',inplace=True)\n",
    "semi_conductor_data['Export Price Index_without semi_conductors']=semi_conductor_data['Export Price Index_without semi_conductors'].astype(float)\n",
    "semi_conductor_data['Export Price Index_without semi_conductors'].fillna(semi_conductor_data['Export Price Index_without semi_conductors'].mean(),inplace=True)\n",
    "semi_conductor_data['Export Price Index_without semi_conductors'].replace(to_replace=0.0,value=77.257,inplace=True)"
   ]
  },
  {
   "cell_type": "code",
   "execution_count": 11,
   "id": "9e3df6df",
   "metadata": {},
   "outputs": [],
   "source": [
    "semi_conductor_data['Relative Importance Weights_% wise'].fillna(semi_conductor_data['Relative Importance Weights_% wise'].mean(),inplace=True)"
   ]
  },
  {
   "cell_type": "code",
   "execution_count": 12,
   "id": "863e8d5c",
   "metadata": {},
   "outputs": [],
   "source": [
    "semi_conductor_data['Import Price Index_all(End Use)'].replace(to_replace='.',value='0',inplace=True)\n",
    "semi_conductor_data['Import Price Index_all(End Use)']=semi_conductor_data['Import Price Index_all(End Use)'].astype(float)\n",
    "semi_conductor_data['Import Price Index_all(End Use)'].fillna(semi_conductor_data['Import Price Index_all(End Use)'].mean(),inplace=True)\n",
    "semi_conductor_data['Import Price Index_all(End Use)'].replace(to_replace=0.0,value=89.726,inplace=True)"
   ]
  },
  {
   "cell_type": "code",
   "execution_count": 13,
   "id": "d7c98177",
   "metadata": {},
   "outputs": [],
   "source": [
    "semi_conductor_data['Export Price Index_all(End Use)'].fillna(semi_conductor_data['Export Price Index_all(End Use)'].mean(),inplace=True)"
   ]
  },
  {
   "cell_type": "code",
   "execution_count": 14,
   "id": "a0df1576",
   "metadata": {},
   "outputs": [],
   "source": [
    "semi_conductor_data['Industrial Production(all)'].fillna(semi_conductor_data['Industrial Production(all)'].mean(),inplace=True)"
   ]
  },
  {
   "cell_type": "code",
   "execution_count": 15,
   "id": "45c185a1",
   "metadata": {},
   "outputs": [
    {
     "data": {
      "text/plain": [
       "DATE                                           object\n",
       "Producer Price Index(By  Industry in $)       float64\n",
       "Export Price Index                            float64\n",
       "Import Price Index                            float64\n",
       "No_of_employees_industry                      float64\n",
       "Export Price Index_without semi_conductors    float64\n",
       "Relative Importance Weights_% wise            float64\n",
       "Import Price Index_all(End Use)               float64\n",
       "Export Price Index_all(End Use)               float64\n",
       "Industrial Production(all)                    float64\n",
       "dtype: object"
      ]
     },
     "execution_count": 15,
     "metadata": {},
     "output_type": "execute_result"
    }
   ],
   "source": [
    "semi_conductor_data.isna().sum()\n",
    "semi_conductor_data.dtypes"
   ]
  },
  {
   "cell_type": "code",
   "execution_count": 16,
   "id": "a29248b9",
   "metadata": {},
   "outputs": [
    {
     "data": {
      "text/html": [
       "<div>\n",
       "<style scoped>\n",
       "    .dataframe tbody tr th:only-of-type {\n",
       "        vertical-align: middle;\n",
       "    }\n",
       "\n",
       "    .dataframe tbody tr th {\n",
       "        vertical-align: top;\n",
       "    }\n",
       "\n",
       "    .dataframe thead th {\n",
       "        text-align: right;\n",
       "    }\n",
       "</style>\n",
       "<table border=\"1\" class=\"dataframe\">\n",
       "  <thead>\n",
       "    <tr style=\"text-align: right;\">\n",
       "      <th></th>\n",
       "      <th>DATE</th>\n",
       "      <th>Producer Price Index(By  Industry in $)</th>\n",
       "      <th>Export Price Index</th>\n",
       "      <th>Import Price Index</th>\n",
       "      <th>No_of_employees_industry</th>\n",
       "      <th>Export Price Index_without semi_conductors</th>\n",
       "      <th>Relative Importance Weights_% wise</th>\n",
       "      <th>Import Price Index_all(End Use)</th>\n",
       "      <th>Export Price Index_all(End Use)</th>\n",
       "      <th>Industrial Production(all)</th>\n",
       "    </tr>\n",
       "  </thead>\n",
       "  <tbody>\n",
       "    <tr>\n",
       "      <th>0</th>\n",
       "      <td>01-01-1985</td>\n",
       "      <td>100.5</td>\n",
       "      <td>73.746</td>\n",
       "      <td>77.712</td>\n",
       "      <td>670.8</td>\n",
       "      <td>77.257</td>\n",
       "      <td>5.5335</td>\n",
       "      <td>89.726</td>\n",
       "      <td>131.856485</td>\n",
       "      <td>81.4300</td>\n",
       "    </tr>\n",
       "    <tr>\n",
       "      <th>1</th>\n",
       "      <td>01-02-1985</td>\n",
       "      <td>100.8</td>\n",
       "      <td>73.746</td>\n",
       "      <td>77.712</td>\n",
       "      <td>665.6</td>\n",
       "      <td>77.257</td>\n",
       "      <td>5.3861</td>\n",
       "      <td>89.726</td>\n",
       "      <td>131.856485</td>\n",
       "      <td>81.4319</td>\n",
       "    </tr>\n",
       "    <tr>\n",
       "      <th>2</th>\n",
       "      <td>01-03-1985</td>\n",
       "      <td>100.9</td>\n",
       "      <td>169.000</td>\n",
       "      <td>141.600</td>\n",
       "      <td>660.9</td>\n",
       "      <td>223.900</td>\n",
       "      <td>5.3103</td>\n",
       "      <td>69.200</td>\n",
       "      <td>131.856485</td>\n",
       "      <td>82.1699</td>\n",
       "    </tr>\n",
       "    <tr>\n",
       "      <th>3</th>\n",
       "      <td>01-04-1985</td>\n",
       "      <td>100.6</td>\n",
       "      <td>73.746</td>\n",
       "      <td>77.712</td>\n",
       "      <td>653.9</td>\n",
       "      <td>77.257</td>\n",
       "      <td>5.1255</td>\n",
       "      <td>89.726</td>\n",
       "      <td>131.856485</td>\n",
       "      <td>81.9731</td>\n",
       "    </tr>\n",
       "    <tr>\n",
       "      <th>4</th>\n",
       "      <td>01-05-1985</td>\n",
       "      <td>100.1</td>\n",
       "      <td>73.746</td>\n",
       "      <td>77.712</td>\n",
       "      <td>647.2</td>\n",
       "      <td>77.257</td>\n",
       "      <td>5.0821</td>\n",
       "      <td>89.726</td>\n",
       "      <td>131.856485</td>\n",
       "      <td>82.1311</td>\n",
       "    </tr>\n",
       "  </tbody>\n",
       "</table>\n",
       "</div>"
      ],
      "text/plain": [
       "         DATE  Producer Price Index(By  Industry in $)  Export Price Index  \\\n",
       "0  01-01-1985                                    100.5              73.746   \n",
       "1  01-02-1985                                    100.8              73.746   \n",
       "2  01-03-1985                                    100.9             169.000   \n",
       "3  01-04-1985                                    100.6              73.746   \n",
       "4  01-05-1985                                    100.1              73.746   \n",
       "\n",
       "   Import Price Index  No_of_employees_industry  \\\n",
       "0              77.712                     670.8   \n",
       "1              77.712                     665.6   \n",
       "2             141.600                     660.9   \n",
       "3              77.712                     653.9   \n",
       "4              77.712                     647.2   \n",
       "\n",
       "   Export Price Index_without semi_conductors  \\\n",
       "0                                      77.257   \n",
       "1                                      77.257   \n",
       "2                                     223.900   \n",
       "3                                      77.257   \n",
       "4                                      77.257   \n",
       "\n",
       "   Relative Importance Weights_% wise  Import Price Index_all(End Use)  \\\n",
       "0                              5.5335                           89.726   \n",
       "1                              5.3861                           89.726   \n",
       "2                              5.3103                           69.200   \n",
       "3                              5.1255                           89.726   \n",
       "4                              5.0821                           89.726   \n",
       "\n",
       "   Export Price Index_all(End Use)  Industrial Production(all)  \n",
       "0                       131.856485                     81.4300  \n",
       "1                       131.856485                     81.4319  \n",
       "2                       131.856485                     82.1699  \n",
       "3                       131.856485                     81.9731  \n",
       "4                       131.856485                     82.1311  "
      ]
     },
     "execution_count": 16,
     "metadata": {},
     "output_type": "execute_result"
    }
   ],
   "source": [
    "semi_conductor_data.head(5)"
   ]
  },
  {
   "cell_type": "code",
   "execution_count": null,
   "id": "2df626c9",
   "metadata": {},
   "outputs": [],
   "source": []
  },
  {
   "cell_type": "code",
   "execution_count": 17,
   "id": "fe438ad4",
   "metadata": {},
   "outputs": [
    {
     "data": {
      "text/html": [
       "<div>\n",
       "<style scoped>\n",
       "    .dataframe tbody tr th:only-of-type {\n",
       "        vertical-align: middle;\n",
       "    }\n",
       "\n",
       "    .dataframe tbody tr th {\n",
       "        vertical-align: top;\n",
       "    }\n",
       "\n",
       "    .dataframe thead th {\n",
       "        text-align: right;\n",
       "    }\n",
       "</style>\n",
       "<table border=\"1\" class=\"dataframe\">\n",
       "  <thead>\n",
       "    <tr style=\"text-align: right;\">\n",
       "      <th></th>\n",
       "      <th>DATE</th>\n",
       "      <th>Producer Price Index(By  Industry in $)</th>\n",
       "      <th>Export Price Index</th>\n",
       "      <th>Import Price Index</th>\n",
       "      <th>No_of_employees_industry</th>\n",
       "      <th>Export Price Index_without semi_conductors</th>\n",
       "      <th>Relative Importance Weights_% wise</th>\n",
       "      <th>Import Price Index_all(End Use)</th>\n",
       "      <th>Export Price Index_all(End Use)</th>\n",
       "      <th>Industrial Production(all)</th>\n",
       "    </tr>\n",
       "  </thead>\n",
       "  <tbody>\n",
       "    <tr>\n",
       "      <th>0</th>\n",
       "      <td>01-01-1985</td>\n",
       "      <td>100.5</td>\n",
       "      <td>73.746</td>\n",
       "      <td>77.712</td>\n",
       "      <td>670.8</td>\n",
       "      <td>77.257</td>\n",
       "      <td>5.5335</td>\n",
       "      <td>89.726</td>\n",
       "      <td>131.856485</td>\n",
       "      <td>81.4300</td>\n",
       "    </tr>\n",
       "    <tr>\n",
       "      <th>1</th>\n",
       "      <td>01-02-1985</td>\n",
       "      <td>100.8</td>\n",
       "      <td>73.746</td>\n",
       "      <td>77.712</td>\n",
       "      <td>665.6</td>\n",
       "      <td>77.257</td>\n",
       "      <td>5.3861</td>\n",
       "      <td>89.726</td>\n",
       "      <td>131.856485</td>\n",
       "      <td>81.4319</td>\n",
       "    </tr>\n",
       "    <tr>\n",
       "      <th>2</th>\n",
       "      <td>01-03-1985</td>\n",
       "      <td>100.9</td>\n",
       "      <td>169.000</td>\n",
       "      <td>141.600</td>\n",
       "      <td>660.9</td>\n",
       "      <td>223.900</td>\n",
       "      <td>5.3103</td>\n",
       "      <td>69.200</td>\n",
       "      <td>131.856485</td>\n",
       "      <td>82.1699</td>\n",
       "    </tr>\n",
       "    <tr>\n",
       "      <th>3</th>\n",
       "      <td>01-04-1985</td>\n",
       "      <td>100.6</td>\n",
       "      <td>73.746</td>\n",
       "      <td>77.712</td>\n",
       "      <td>653.9</td>\n",
       "      <td>77.257</td>\n",
       "      <td>5.1255</td>\n",
       "      <td>89.726</td>\n",
       "      <td>131.856485</td>\n",
       "      <td>81.9731</td>\n",
       "    </tr>\n",
       "    <tr>\n",
       "      <th>4</th>\n",
       "      <td>01-05-1985</td>\n",
       "      <td>100.1</td>\n",
       "      <td>73.746</td>\n",
       "      <td>77.712</td>\n",
       "      <td>647.2</td>\n",
       "      <td>77.257</td>\n",
       "      <td>5.0821</td>\n",
       "      <td>89.726</td>\n",
       "      <td>131.856485</td>\n",
       "      <td>82.1311</td>\n",
       "    </tr>\n",
       "  </tbody>\n",
       "</table>\n",
       "</div>"
      ],
      "text/plain": [
       "         DATE  Producer Price Index(By  Industry in $)  Export Price Index  \\\n",
       "0  01-01-1985                                    100.5              73.746   \n",
       "1  01-02-1985                                    100.8              73.746   \n",
       "2  01-03-1985                                    100.9             169.000   \n",
       "3  01-04-1985                                    100.6              73.746   \n",
       "4  01-05-1985                                    100.1              73.746   \n",
       "\n",
       "   Import Price Index  No_of_employees_industry  \\\n",
       "0              77.712                     670.8   \n",
       "1              77.712                     665.6   \n",
       "2             141.600                     660.9   \n",
       "3              77.712                     653.9   \n",
       "4              77.712                     647.2   \n",
       "\n",
       "   Export Price Index_without semi_conductors  \\\n",
       "0                                      77.257   \n",
       "1                                      77.257   \n",
       "2                                     223.900   \n",
       "3                                      77.257   \n",
       "4                                      77.257   \n",
       "\n",
       "   Relative Importance Weights_% wise  Import Price Index_all(End Use)  \\\n",
       "0                              5.5335                           89.726   \n",
       "1                              5.3861                           89.726   \n",
       "2                              5.3103                           69.200   \n",
       "3                              5.1255                           89.726   \n",
       "4                              5.0821                           89.726   \n",
       "\n",
       "   Export Price Index_all(End Use)  Industrial Production(all)  \n",
       "0                       131.856485                     81.4300  \n",
       "1                       131.856485                     81.4319  \n",
       "2                       131.856485                     82.1699  \n",
       "3                       131.856485                     81.9731  \n",
       "4                       131.856485                     82.1311  "
      ]
     },
     "execution_count": 17,
     "metadata": {},
     "output_type": "execute_result"
    }
   ],
   "source": [
    "semi_conductor_data.head(5)"
   ]
  },
  {
   "cell_type": "code",
   "execution_count": 18,
   "id": "f0b91d2d",
   "metadata": {},
   "outputs": [],
   "source": [
    "semi_conductor_data.drop(['DATE'],inplace=True,axis=1)"
   ]
  },
  {
   "cell_type": "code",
   "execution_count": 19,
   "id": "93866e73",
   "metadata": {},
   "outputs": [],
   "source": [
    "from sklearn.preprocessing import MinMaxScaler,StandardScaler\n",
    "scaler=MinMaxScaler()\n",
    "semi_conductor=scaler.fit_transform(semi_conductor_data)\n",
    "\n",
    "final_data=pd.DataFrame(semi_conductor)\n",
    "final_data.columns=['Producer Price Index(By Industry in $)','Export Price Index','Import Price Index',\n",
    "                    'No_of_employees_industry','Export Price Index_without semi_conductors','Relative Importance Weights_% wise',\n",
    "                    'Import Price Index_all(End Use)','Export Price Index_all(End Use)','Industrial Production(all)']\n"
   ]
  },
  {
   "cell_type": "code",
   "execution_count": 20,
   "id": "f5d9315b",
   "metadata": {},
   "outputs": [
    {
     "data": {
      "text/html": [
       "<div>\n",
       "<style scoped>\n",
       "    .dataframe tbody tr th:only-of-type {\n",
       "        vertical-align: middle;\n",
       "    }\n",
       "\n",
       "    .dataframe tbody tr th {\n",
       "        vertical-align: top;\n",
       "    }\n",
       "\n",
       "    .dataframe thead th {\n",
       "        text-align: right;\n",
       "    }\n",
       "</style>\n",
       "<table border=\"1\" class=\"dataframe\">\n",
       "  <thead>\n",
       "    <tr style=\"text-align: right;\">\n",
       "      <th></th>\n",
       "      <th>Producer Price Index(By Industry in $)</th>\n",
       "      <th>Export Price Index</th>\n",
       "      <th>Import Price Index</th>\n",
       "      <th>No_of_employees_industry</th>\n",
       "      <th>Export Price Index_without semi_conductors</th>\n",
       "      <th>Relative Importance Weights_% wise</th>\n",
       "      <th>Import Price Index_all(End Use)</th>\n",
       "      <th>Export Price Index_all(End Use)</th>\n",
       "      <th>Industrial Production(all)</th>\n",
       "    </tr>\n",
       "  </thead>\n",
       "  <tbody>\n",
       "    <tr>\n",
       "      <th>0</th>\n",
       "      <td>0.899807</td>\n",
       "      <td>0.133327</td>\n",
       "      <td>0.196887</td>\n",
       "      <td>0.876797</td>\n",
       "      <td>0.192050</td>\n",
       "      <td>0.535242</td>\n",
       "      <td>0.424969</td>\n",
       "      <td>0.503242</td>\n",
       "      <td>0.000000</td>\n",
       "    </tr>\n",
       "    <tr>\n",
       "      <th>1</th>\n",
       "      <td>0.905588</td>\n",
       "      <td>0.133327</td>\n",
       "      <td>0.196887</td>\n",
       "      <td>0.862137</td>\n",
       "      <td>0.192050</td>\n",
       "      <td>0.513094</td>\n",
       "      <td>0.424969</td>\n",
       "      <td>0.503242</td>\n",
       "      <td>0.000055</td>\n",
       "    </tr>\n",
       "    <tr>\n",
       "      <th>2</th>\n",
       "      <td>0.907514</td>\n",
       "      <td>0.994575</td>\n",
       "      <td>0.768336</td>\n",
       "      <td>0.848886</td>\n",
       "      <td>1.000000</td>\n",
       "      <td>0.501705</td>\n",
       "      <td>0.000000</td>\n",
       "      <td>0.503242</td>\n",
       "      <td>0.021327</td>\n",
       "    </tr>\n",
       "    <tr>\n",
       "      <th>3</th>\n",
       "      <td>0.901734</td>\n",
       "      <td>0.133327</td>\n",
       "      <td>0.196887</td>\n",
       "      <td>0.829151</td>\n",
       "      <td>0.192050</td>\n",
       "      <td>0.473939</td>\n",
       "      <td>0.424969</td>\n",
       "      <td>0.503242</td>\n",
       "      <td>0.015654</td>\n",
       "    </tr>\n",
       "    <tr>\n",
       "      <th>4</th>\n",
       "      <td>0.892100</td>\n",
       "      <td>0.133327</td>\n",
       "      <td>0.196887</td>\n",
       "      <td>0.810262</td>\n",
       "      <td>0.192050</td>\n",
       "      <td>0.467418</td>\n",
       "      <td>0.424969</td>\n",
       "      <td>0.503242</td>\n",
       "      <td>0.020209</td>\n",
       "    </tr>\n",
       "    <tr>\n",
       "      <th>...</th>\n",
       "      <td>...</td>\n",
       "      <td>...</td>\n",
       "      <td>...</td>\n",
       "      <td>...</td>\n",
       "      <td>...</td>\n",
       "      <td>...</td>\n",
       "      <td>...</td>\n",
       "      <td>...</td>\n",
       "      <td>...</td>\n",
       "    </tr>\n",
       "    <tr>\n",
       "      <th>438</th>\n",
       "      <td>0.014605</td>\n",
       "      <td>0.018083</td>\n",
       "      <td>0.014311</td>\n",
       "      <td>0.034395</td>\n",
       "      <td>0.013223</td>\n",
       "      <td>0.003441</td>\n",
       "      <td>0.991718</td>\n",
       "      <td>0.503242</td>\n",
       "      <td>0.506207</td>\n",
       "    </tr>\n",
       "    <tr>\n",
       "      <th>439</th>\n",
       "      <td>0.017669</td>\n",
       "      <td>0.018083</td>\n",
       "      <td>0.015206</td>\n",
       "      <td>0.037778</td>\n",
       "      <td>0.013223</td>\n",
       "      <td>0.001653</td>\n",
       "      <td>0.993789</td>\n",
       "      <td>0.503242</td>\n",
       "      <td>0.506916</td>\n",
       "    </tr>\n",
       "    <tr>\n",
       "      <th>440</th>\n",
       "      <td>0.019056</td>\n",
       "      <td>0.021700</td>\n",
       "      <td>0.016100</td>\n",
       "      <td>0.040598</td>\n",
       "      <td>0.014876</td>\n",
       "      <td>0.004688</td>\n",
       "      <td>0.993789</td>\n",
       "      <td>0.503242</td>\n",
       "      <td>0.501022</td>\n",
       "    </tr>\n",
       "    <tr>\n",
       "      <th>441</th>\n",
       "      <td>0.024239</td>\n",
       "      <td>0.018987</td>\n",
       "      <td>0.013417</td>\n",
       "      <td>0.043981</td>\n",
       "      <td>0.013774</td>\n",
       "      <td>0.000000</td>\n",
       "      <td>0.997930</td>\n",
       "      <td>0.503242</td>\n",
       "      <td>0.511185</td>\n",
       "    </tr>\n",
       "    <tr>\n",
       "      <th>442</th>\n",
       "      <td>0.028574</td>\n",
       "      <td>0.133333</td>\n",
       "      <td>0.196895</td>\n",
       "      <td>0.042289</td>\n",
       "      <td>0.192055</td>\n",
       "      <td>0.428311</td>\n",
       "      <td>0.424974</td>\n",
       "      <td>0.503242</td>\n",
       "      <td>0.548681</td>\n",
       "    </tr>\n",
       "  </tbody>\n",
       "</table>\n",
       "<p>443 rows × 9 columns</p>\n",
       "</div>"
      ],
      "text/plain": [
       "     Producer Price Index(By Industry in $)  Export Price Index  \\\n",
       "0                                  0.899807            0.133327   \n",
       "1                                  0.905588            0.133327   \n",
       "2                                  0.907514            0.994575   \n",
       "3                                  0.901734            0.133327   \n",
       "4                                  0.892100            0.133327   \n",
       "..                                      ...                 ...   \n",
       "438                                0.014605            0.018083   \n",
       "439                                0.017669            0.018083   \n",
       "440                                0.019056            0.021700   \n",
       "441                                0.024239            0.018987   \n",
       "442                                0.028574            0.133333   \n",
       "\n",
       "     Import Price Index  No_of_employees_industry  \\\n",
       "0              0.196887                  0.876797   \n",
       "1              0.196887                  0.862137   \n",
       "2              0.768336                  0.848886   \n",
       "3              0.196887                  0.829151   \n",
       "4              0.196887                  0.810262   \n",
       "..                  ...                       ...   \n",
       "438            0.014311                  0.034395   \n",
       "439            0.015206                  0.037778   \n",
       "440            0.016100                  0.040598   \n",
       "441            0.013417                  0.043981   \n",
       "442            0.196895                  0.042289   \n",
       "\n",
       "     Export Price Index_without semi_conductors  \\\n",
       "0                                      0.192050   \n",
       "1                                      0.192050   \n",
       "2                                      1.000000   \n",
       "3                                      0.192050   \n",
       "4                                      0.192050   \n",
       "..                                          ...   \n",
       "438                                    0.013223   \n",
       "439                                    0.013223   \n",
       "440                                    0.014876   \n",
       "441                                    0.013774   \n",
       "442                                    0.192055   \n",
       "\n",
       "     Relative Importance Weights_% wise  Import Price Index_all(End Use)  \\\n",
       "0                              0.535242                         0.424969   \n",
       "1                              0.513094                         0.424969   \n",
       "2                              0.501705                         0.000000   \n",
       "3                              0.473939                         0.424969   \n",
       "4                              0.467418                         0.424969   \n",
       "..                                  ...                              ...   \n",
       "438                            0.003441                         0.991718   \n",
       "439                            0.001653                         0.993789   \n",
       "440                            0.004688                         0.993789   \n",
       "441                            0.000000                         0.997930   \n",
       "442                            0.428311                         0.424974   \n",
       "\n",
       "     Export Price Index_all(End Use)  Industrial Production(all)  \n",
       "0                           0.503242                    0.000000  \n",
       "1                           0.503242                    0.000055  \n",
       "2                           0.503242                    0.021327  \n",
       "3                           0.503242                    0.015654  \n",
       "4                           0.503242                    0.020209  \n",
       "..                               ...                         ...  \n",
       "438                         0.503242                    0.506207  \n",
       "439                         0.503242                    0.506916  \n",
       "440                         0.503242                    0.501022  \n",
       "441                         0.503242                    0.511185  \n",
       "442                         0.503242                    0.548681  \n",
       "\n",
       "[443 rows x 9 columns]"
      ]
     },
     "execution_count": 20,
     "metadata": {},
     "output_type": "execute_result"
    }
   ],
   "source": [
    "final_data"
   ]
  },
  {
   "cell_type": "code",
   "execution_count": 21,
   "id": "80a2cafd",
   "metadata": {},
   "outputs": [
    {
     "name": "stderr",
     "output_type": "stream",
     "text": [
      "C:\\Users\\NAYUDU.B\\anaconda3\\lib\\site-packages\\seaborn\\distributions.py:2557: FutureWarning: `distplot` is a deprecated function and will be removed in a future version. Please adapt your code to use either `displot` (a figure-level function with similar flexibility) or `histplot` (an axes-level function for histograms).\n",
      "  warnings.warn(msg, FutureWarning)\n"
     ]
    },
    {
     "data": {
      "text/plain": [
       "<AxesSubplot:ylabel='Density'>"
      ]
     },
     "execution_count": 21,
     "metadata": {},
     "output_type": "execute_result"
    },
    {
     "data": {
      "image/png": "[encoded data removed]",
      "text/plain": [
       "<Figure size 432x288 with 1 Axes>"
      ]
     },
     "metadata": {
      "needs_background": "light"
     },
     "output_type": "display_data"
    }
   ],
   "source": [
    "sns.distplot(final_data)"
   ]
  },
  {
   "cell_type": "code",
   "execution_count": 22,
   "id": "60d60514",
   "metadata": {},
   "outputs": [],
   "source": [
    "x=final_data.iloc[:,0:8]\n",
    "y=final_data.iloc[:,-1]\n"
   ]
  },
  {
   "cell_type": "code",
   "execution_count": 23,
   "id": "23daf7c6",
   "metadata": {},
   "outputs": [],
   "source": [
    "from sklearn.model_selection import train_test_split\n",
    "from sklearn.tree import DecisionTreeRegressor"
   ]
  },
  {
   "cell_type": "code",
   "execution_count": 24,
   "id": "9d514a29",
   "metadata": {},
   "outputs": [],
   "source": [
    "X_train,X_test,Y_train,Y_test=train_test_split(x,y,test_size=0.2,random_state=42)"
   ]
  },
  {
   "cell_type": "code",
   "execution_count": 25,
   "id": "3a4d62dc",
   "metadata": {},
   "outputs": [],
   "source": [
    "dc=DecisionTreeRegressor(max_depth=5,min_samples_leaf=1)"
   ]
  },
  {
   "cell_type": "code",
   "execution_count": 26,
   "id": "e9b5acd0",
   "metadata": {},
   "outputs": [
    {
     "data": {
      "text/plain": [
       "DecisionTreeRegressor(max_depth=5)"
      ]
     },
     "execution_count": 26,
     "metadata": {},
     "output_type": "execute_result"
    }
   ],
   "source": [
    "dc.fit(X_train,Y_train)"
   ]
  },
  {
   "cell_type": "code",
   "execution_count": 27,
   "id": "23b839f6",
   "metadata": {},
   "outputs": [],
   "source": [
    "model_pred=dc.predict(X_test)"
   ]
  },
  {
   "cell_type": "code",
   "execution_count": 28,
   "id": "0988a092",
   "metadata": {},
   "outputs": [],
   "source": [
    "from sklearn.metrics import r2_score,mean_squared_error,mean_absolute_error,accuracy_score"
   ]
  },
  {
   "cell_type": "code",
   "execution_count": 29,
   "id": "2dcd0750",
   "metadata": {},
   "outputs": [
    {
     "data": {
      "text/plain": [
       "0.9375355506345437"
      ]
     },
     "execution_count": 29,
     "metadata": {},
     "output_type": "execute_result"
    }
   ],
   "source": [
    "r2_score(Y_test,model_pred)"
   ]
  },
  {
   "cell_type": "code",
   "execution_count": 30,
   "id": "aa424d88",
   "metadata": {},
   "outputs": [
    {
     "data": {
      "text/plain": [
       "0.003098500517878822"
      ]
     },
     "execution_count": 30,
     "metadata": {},
     "output_type": "execute_result"
    }
   ],
   "source": [
    "mean_squared_error(Y_test,model_pred)"
   ]
  },
  {
   "cell_type": "code",
   "execution_count": 31,
   "id": "5e638f97",
   "metadata": {},
   "outputs": [
    {
     "data": {
      "text/plain": [
       "0.033756198716337685"
      ]
     },
     "execution_count": 31,
     "metadata": {},
     "output_type": "execute_result"
    }
   ],
   "source": [
    "mean_absolute_error(Y_test,model_pred)"
   ]
  },
  {
   "cell_type": "code",
   "execution_count": 32,
   "id": "bac2efd0",
   "metadata": {},
   "outputs": [
    {
     "data": {
      "image/png": "[encoded data removed]",
      "text/plain": [
       "<Figure size 432x288 with 2 Axes>"
      ]
     },
     "metadata": {
      "needs_background": "light"
     },
     "output_type": "display_data"
    }
   ],
   "source": [
    "from sklearn.metrics import confusion_matrix\n",
    "cutoff = 0.7                              # decide on a cutoff limit\n",
    "y_pred_classes = np.zeros_like(model_pred)    # initialise a matrix full with zeros\n",
    "y_pred_classes[model_pred > cutoff] = 1 \n",
    "\n",
    "y_test_classes = np.zeros_like(model_pred)\n",
    "y_test_classes[Y_test > cutoff] = 1\n",
    "\n",
    "sns.heatmap(confusion_matrix(y_test_classes,y_pred_classes),cmap='Greens',annot=True)\n",
    "plt.show()"
   ]
  },
  {
   "cell_type": "code",
   "execution_count": 33,
   "id": "56a3ae2d",
   "metadata": {},
   "outputs": [
    {
     "data": {
      "text/plain": [
       "<matplotlib.collections.PathCollection at 0x1a3de3bf310>"
      ]
     },
     "execution_count": 33,
     "metadata": {},
     "output_type": "execute_result"
    },
    {
     "data": {
      "image/png": "[encoded data removed]",
      "text/plain": [
       "<Figure size 432x288 with 1 Axes>"
      ]
     },
     "metadata": {
      "needs_background": "light"
     },
     "output_type": "display_data"
    }
   ],
   "source": [
    "plt.scatter(Y_test,model_pred)"
   ]
  },
  {
   "cell_type": "code",
   "execution_count": 34,
   "id": "83444c72",
   "metadata": {},
   "outputs": [
    {
     "name": "stderr",
     "output_type": "stream",
     "text": [
      "C:\\Users\\NAYUDU.B\\anaconda3\\lib\\site-packages\\seaborn\\distributions.py:2557: FutureWarning: `distplot` is a deprecated function and will be removed in a future version. Please adapt your code to use either `displot` (a figure-level function with similar flexibility) or `histplot` (an axes-level function for histograms).\n",
      "  warnings.warn(msg, FutureWarning)\n"
     ]
    },
    {
     "data": {
      "image/png": "[encoded data removed]",
      "text/plain": [
       "<Figure size 432x288 with 1 Axes>"
      ]
     },
     "metadata": {
      "needs_background": "light"
     },
     "output_type": "display_data"
    }
   ],
   "source": [
    "#difference of Y_test,model_pred\n",
    "sns.distplot(Y_test-model_pred)\n",
    "plt.show()"
   ]
  },
  {
   "cell_type": "code",
   "execution_count": null,
   "id": "109b6a81",
   "metadata": {},
   "outputs": [],
   "source": []
  }
 ],
 "metadata": {
  "kernelspec": {
   "display_name": "Python 3",
   "language": "python",
   "name": "python3"
  },
  "language_info": {
   "codemirror_mode": {
    "name": "ipython",
    "version": 3
   },
   "file_extension": ".py",
   "mimetype": "text/x-python",
   "name": "python",
   "nbconvert_exporter": "python",
   "pygments_lexer": "ipython3",
   "version": "3.8.8"
  }
 },
 "nbformat": 4,
 "nbformat_minor": 5
}
