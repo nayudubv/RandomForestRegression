{
 "cells": [
  {
   "cell_type": "code",
   "execution_count": 1,
   "id": "1508ecef",
   "metadata": {},
   "outputs": [],
   "source": [
    "import numpy as np\n",
    "import pandas as pd"
   ]
  },
  {
   "cell_type": "code",
   "execution_count": 2,
   "id": "98c2365a",
   "metadata": {},
   "outputs": [],
   "source": [
    "Co2_data=pd.read_csv(r'fossil-fuel-co2-emissions-by-nation.csv')"
   ]
  },
  {
   "cell_type": "code",
   "execution_count": 3,
   "id": "0c5fbb51",
   "metadata": {},
   "outputs": [
    {
     "data": {
      "text/html": [
       "<div>\n",
       "<style scoped>\n",
       "    .dataframe tbody tr th:only-of-type {\n",
       "        vertical-align: middle;\n",
       "    }\n",
       "\n",
       "    .dataframe tbody tr th {\n",
       "        vertical-align: top;\n",
       "    }\n",
       "\n",
       "    .dataframe thead th {\n",
       "        text-align: right;\n",
       "    }\n",
       "</style>\n",
       "<table border=\"1\" class=\"dataframe\">\n",
       "  <thead>\n",
       "    <tr style=\"text-align: right;\">\n",
       "      <th></th>\n",
       "      <th>Year</th>\n",
       "      <th>Country</th>\n",
       "      <th>Total</th>\n",
       "      <th>Solid Fuel</th>\n",
       "      <th>Liquid Fuel</th>\n",
       "      <th>Gas Fuel</th>\n",
       "      <th>Cement</th>\n",
       "      <th>Gas Flaring</th>\n",
       "      <th>Per Capita</th>\n",
       "      <th>Bunker fuels (Not in Total)</th>\n",
       "    </tr>\n",
       "  </thead>\n",
       "  <tbody>\n",
       "    <tr>\n",
       "      <th>0</th>\n",
       "      <td>1751</td>\n",
       "      <td>UNITED KINGDOM</td>\n",
       "      <td>2552</td>\n",
       "      <td>2552</td>\n",
       "      <td>0</td>\n",
       "      <td>0</td>\n",
       "      <td>0</td>\n",
       "      <td>0</td>\n",
       "      <td>0.0</td>\n",
       "      <td>0</td>\n",
       "    </tr>\n",
       "    <tr>\n",
       "      <th>1</th>\n",
       "      <td>1752</td>\n",
       "      <td>UNITED KINGDOM</td>\n",
       "      <td>2553</td>\n",
       "      <td>2553</td>\n",
       "      <td>0</td>\n",
       "      <td>0</td>\n",
       "      <td>0</td>\n",
       "      <td>0</td>\n",
       "      <td>0.0</td>\n",
       "      <td>0</td>\n",
       "    </tr>\n",
       "    <tr>\n",
       "      <th>2</th>\n",
       "      <td>1753</td>\n",
       "      <td>UNITED KINGDOM</td>\n",
       "      <td>2553</td>\n",
       "      <td>2553</td>\n",
       "      <td>0</td>\n",
       "      <td>0</td>\n",
       "      <td>0</td>\n",
       "      <td>0</td>\n",
       "      <td>0.0</td>\n",
       "      <td>0</td>\n",
       "    </tr>\n",
       "    <tr>\n",
       "      <th>3</th>\n",
       "      <td>1754</td>\n",
       "      <td>UNITED KINGDOM</td>\n",
       "      <td>2554</td>\n",
       "      <td>2554</td>\n",
       "      <td>0</td>\n",
       "      <td>0</td>\n",
       "      <td>0</td>\n",
       "      <td>0</td>\n",
       "      <td>0.0</td>\n",
       "      <td>0</td>\n",
       "    </tr>\n",
       "    <tr>\n",
       "      <th>4</th>\n",
       "      <td>1755</td>\n",
       "      <td>UNITED KINGDOM</td>\n",
       "      <td>2555</td>\n",
       "      <td>2555</td>\n",
       "      <td>0</td>\n",
       "      <td>0</td>\n",
       "      <td>0</td>\n",
       "      <td>0</td>\n",
       "      <td>0.0</td>\n",
       "      <td>0</td>\n",
       "    </tr>\n",
       "  </tbody>\n",
       "</table>\n",
       "</div>"
      ],
      "text/plain": [
       "   Year         Country  Total  Solid Fuel  Liquid Fuel  Gas Fuel  Cement  \\\n",
       "0  1751  UNITED KINGDOM   2552        2552            0         0       0   \n",
       "1  1752  UNITED KINGDOM   2553        2553            0         0       0   \n",
       "2  1753  UNITED KINGDOM   2553        2553            0         0       0   \n",
       "3  1754  UNITED KINGDOM   2554        2554            0         0       0   \n",
       "4  1755  UNITED KINGDOM   2555        2555            0         0       0   \n",
       "\n",
       "   Gas Flaring  Per Capita  Bunker fuels (Not in Total)  \n",
       "0            0         0.0                            0  \n",
       "1            0         0.0                            0  \n",
       "2            0         0.0                            0  \n",
       "3            0         0.0                            0  \n",
       "4            0         0.0                            0  "
      ]
     },
     "execution_count": 3,
     "metadata": {},
     "output_type": "execute_result"
    }
   ],
   "source": [
    "Co2_data.head()"
   ]
  },
  {
   "cell_type": "code",
   "execution_count": 4,
   "id": "b32fef56",
   "metadata": {},
   "outputs": [
    {
     "data": {
      "text/plain": [
       "(17232, 10)"
      ]
     },
     "execution_count": 4,
     "metadata": {},
     "output_type": "execute_result"
    }
   ],
   "source": [
    "Co2_data.shape"
   ]
  },
  {
   "cell_type": "code",
   "execution_count": 5,
   "id": "74ff5573",
   "metadata": {},
   "outputs": [
    {
     "data": {
      "text/plain": [
       "Year                           0\n",
       "Country                        0\n",
       "Total                          0\n",
       "Solid Fuel                     0\n",
       "Liquid Fuel                    0\n",
       "Gas Fuel                       0\n",
       "Cement                         0\n",
       "Gas Flaring                    0\n",
       "Per Capita                     0\n",
       "Bunker fuels (Not in Total)    0\n",
       "dtype: int64"
      ]
     },
     "execution_count": 5,
     "metadata": {},
     "output_type": "execute_result"
    }
   ],
   "source": [
    "Co2_data.isna().sum()"
   ]
  },
  {
   "cell_type": "code",
   "execution_count": 6,
   "id": "89e286ed",
   "metadata": {},
   "outputs": [
    {
     "data": {
      "text/plain": [
       "Year                             int64\n",
       "Country                         object\n",
       "Total                            int64\n",
       "Solid Fuel                       int64\n",
       "Liquid Fuel                      int64\n",
       "Gas Fuel                         int64\n",
       "Cement                           int64\n",
       "Gas Flaring                      int64\n",
       "Per Capita                     float64\n",
       "Bunker fuels (Not in Total)      int64\n",
       "dtype: object"
      ]
     },
     "execution_count": 6,
     "metadata": {},
     "output_type": "execute_result"
    }
   ],
   "source": [
    "Co2_data.dtypes"
   ]
  },
  {
   "cell_type": "code",
   "execution_count": 7,
   "id": "b478e734",
   "metadata": {},
   "outputs": [],
   "source": [
    "Co2_data['Total']=Co2_data['Total']+Co2_data['Bunker fuels (Not in Total)']"
   ]
  },
  {
   "cell_type": "code",
   "execution_count": 8,
   "id": "888791c6",
   "metadata": {},
   "outputs": [
    {
     "data": {
      "text/html": [
       "<div>\n",
       "<style scoped>\n",
       "    .dataframe tbody tr th:only-of-type {\n",
       "        vertical-align: middle;\n",
       "    }\n",
       "\n",
       "    .dataframe tbody tr th {\n",
       "        vertical-align: top;\n",
       "    }\n",
       "\n",
       "    .dataframe thead th {\n",
       "        text-align: right;\n",
       "    }\n",
       "</style>\n",
       "<table border=\"1\" class=\"dataframe\">\n",
       "  <thead>\n",
       "    <tr style=\"text-align: right;\">\n",
       "      <th></th>\n",
       "      <th>Year</th>\n",
       "      <th>Country</th>\n",
       "      <th>Total</th>\n",
       "      <th>Solid Fuel</th>\n",
       "      <th>Liquid Fuel</th>\n",
       "      <th>Gas Fuel</th>\n",
       "      <th>Cement</th>\n",
       "      <th>Gas Flaring</th>\n",
       "      <th>Per Capita</th>\n",
       "      <th>Bunker fuels (Not in Total)</th>\n",
       "    </tr>\n",
       "  </thead>\n",
       "  <tbody>\n",
       "    <tr>\n",
       "      <th>17227</th>\n",
       "      <td>2014</td>\n",
       "      <td>VIET NAM</td>\n",
       "      <td>46278</td>\n",
       "      <td>19246</td>\n",
       "      <td>12694</td>\n",
       "      <td>5349</td>\n",
       "      <td>8229</td>\n",
       "      <td>0</td>\n",
       "      <td>0.49</td>\n",
       "      <td>761</td>\n",
       "    </tr>\n",
       "    <tr>\n",
       "      <th>17228</th>\n",
       "      <td>2014</td>\n",
       "      <td>WALLIS AND FUTUNA ISLANDS</td>\n",
       "      <td>7</td>\n",
       "      <td>0</td>\n",
       "      <td>6</td>\n",
       "      <td>0</td>\n",
       "      <td>0</td>\n",
       "      <td>0</td>\n",
       "      <td>0.44</td>\n",
       "      <td>1</td>\n",
       "    </tr>\n",
       "    <tr>\n",
       "      <th>17229</th>\n",
       "      <td>2014</td>\n",
       "      <td>YEMEN</td>\n",
       "      <td>6343</td>\n",
       "      <td>137</td>\n",
       "      <td>5090</td>\n",
       "      <td>581</td>\n",
       "      <td>381</td>\n",
       "      <td>0</td>\n",
       "      <td>0.24</td>\n",
       "      <td>153</td>\n",
       "    </tr>\n",
       "    <tr>\n",
       "      <th>17230</th>\n",
       "      <td>2014</td>\n",
       "      <td>ZAMBIA</td>\n",
       "      <td>1261</td>\n",
       "      <td>132</td>\n",
       "      <td>797</td>\n",
       "      <td>0</td>\n",
       "      <td>299</td>\n",
       "      <td>0</td>\n",
       "      <td>0.08</td>\n",
       "      <td>33</td>\n",
       "    </tr>\n",
       "    <tr>\n",
       "      <th>17231</th>\n",
       "      <td>2014</td>\n",
       "      <td>ZIMBABWE</td>\n",
       "      <td>3287</td>\n",
       "      <td>2097</td>\n",
       "      <td>1005</td>\n",
       "      <td>0</td>\n",
       "      <td>177</td>\n",
       "      <td>0</td>\n",
       "      <td>0.22</td>\n",
       "      <td>9</td>\n",
       "    </tr>\n",
       "  </tbody>\n",
       "</table>\n",
       "</div>"
      ],
      "text/plain": [
       "       Year                    Country  Total  Solid Fuel  Liquid Fuel  \\\n",
       "17227  2014                   VIET NAM  46278       19246        12694   \n",
       "17228  2014  WALLIS AND FUTUNA ISLANDS      7           0            6   \n",
       "17229  2014                      YEMEN   6343         137         5090   \n",
       "17230  2014                     ZAMBIA   1261         132          797   \n",
       "17231  2014                   ZIMBABWE   3287        2097         1005   \n",
       "\n",
       "       Gas Fuel  Cement  Gas Flaring  Per Capita  Bunker fuels (Not in Total)  \n",
       "17227      5349    8229            0        0.49                          761  \n",
       "17228         0       0            0        0.44                            1  \n",
       "17229       581     381            0        0.24                          153  \n",
       "17230         0     299            0        0.08                           33  \n",
       "17231         0     177            0        0.22                            9  "
      ]
     },
     "execution_count": 8,
     "metadata": {},
     "output_type": "execute_result"
    }
   ],
   "source": [
    "Co2_data.tail(5)"
   ]
  },
  {
   "cell_type": "code",
   "execution_count": 9,
   "id": "8a2d7fd8",
   "metadata": {},
   "outputs": [
    {
     "data": {
      "text/plain": [
       "0"
      ]
     },
     "execution_count": 9,
     "metadata": {},
     "output_type": "execute_result"
    }
   ],
   "source": [
    "Co2_data.duplicated().sum()"
   ]
  },
  {
   "cell_type": "code",
   "execution_count": 10,
   "id": "f3bcc784",
   "metadata": {},
   "outputs": [],
   "source": [
    "from sklearn.preprocessing import LabelEncoder\n",
    "lb=LabelEncoder()\n",
    "Co2_data['Country']=lb.fit_transform(Co2_data['Country'])"
   ]
  },
  {
   "cell_type": "code",
   "execution_count": 11,
   "id": "fb6c37db",
   "metadata": {},
   "outputs": [
    {
     "name": "stderr",
     "output_type": "stream",
     "text": [
      "C:\\Users\\NAYUDU.B\\anaconda3\\lib\\site-packages\\seaborn\\distributions.py:2557: FutureWarning: `distplot` is a deprecated function and will be removed in a future version. Please adapt your code to use either `displot` (a figure-level function with similar flexibility) or `histplot` (an axes-level function for histograms).\n",
      "  warnings.warn(msg, FutureWarning)\n"
     ]
    },
    {
     "data": {
      "text/plain": [
       "<AxesSubplot:ylabel='Density'>"
      ]
     },
     "execution_count": 11,
     "metadata": {},
     "output_type": "execute_result"
    },
    {
     "data": {
      "image/png": "[encoded data removed]",
      "text/plain": [
       "<Figure size 432x288 with 1 Axes>"
      ]
     },
     "metadata": {
      "needs_background": "light"
     },
     "output_type": "display_data"
    }
   ],
   "source": [
    "import seaborn as sns\n",
    "import matplotlib.pyplot as plt\n",
    "sns.distplot(Co2_data)"
   ]
  },
  {
   "cell_type": "code",
   "execution_count": 12,
   "id": "80867794",
   "metadata": {},
   "outputs": [],
   "source": [
    "col=Co2_data[['Country','Total','Solid Fuel',\n",
    "              'Liquid Fuel','Gas Fuel','Cement',\n",
    "              'Gas Flaring','Per Capita',\n",
    "              'Bunker fuels (Not in Total)']]"
   ]
  },
  {
   "cell_type": "code",
   "execution_count": 13,
   "id": "70fe8d34",
   "metadata": {},
   "outputs": [],
   "source": [
    "from sklearn.preprocessing import StandardScaler\n",
    "scaler=StandardScaler()\n",
    "Co2_data[['Country','Total','Solid Fuel',\n",
    "              'Liquid Fuel','Gas Fuel','Cement',\n",
    "              'Gas Flaring','Per Capita',\n",
    "              'Bunker fuels (Not in Total)']]=scaler.fit_transform(col)"
   ]
  },
  {
   "cell_type": "code",
   "execution_count": 14,
   "id": "8dc7956e",
   "metadata": {},
   "outputs": [
    {
     "data": {
      "text/html": [
       "<div>\n",
       "<style scoped>\n",
       "    .dataframe tbody tr th:only-of-type {\n",
       "        vertical-align: middle;\n",
       "    }\n",
       "\n",
       "    .dataframe tbody tr th {\n",
       "        vertical-align: top;\n",
       "    }\n",
       "\n",
       "    .dataframe thead th {\n",
       "        text-align: right;\n",
       "    }\n",
       "</style>\n",
       "<table border=\"1\" class=\"dataframe\">\n",
       "  <thead>\n",
       "    <tr style=\"text-align: right;\">\n",
       "      <th></th>\n",
       "      <th>Year</th>\n",
       "      <th>Country</th>\n",
       "      <th>Total</th>\n",
       "      <th>Solid Fuel</th>\n",
       "      <th>Liquid Fuel</th>\n",
       "      <th>Gas Fuel</th>\n",
       "      <th>Cement</th>\n",
       "      <th>Gas Flaring</th>\n",
       "      <th>Per Capita</th>\n",
       "      <th>Bunker fuels (Not in Total)</th>\n",
       "    </tr>\n",
       "  </thead>\n",
       "  <tbody>\n",
       "    <tr>\n",
       "      <th>0</th>\n",
       "      <td>1751</td>\n",
       "      <td>1.499124</td>\n",
       "      <td>-0.180476</td>\n",
       "      <td>-0.137248</td>\n",
       "      <td>-0.194309</td>\n",
       "      <td>-0.153992</td>\n",
       "      <td>-0.096286</td>\n",
       "      <td>-0.18359</td>\n",
       "      <td>-0.413715</td>\n",
       "      <td>-0.232093</td>\n",
       "    </tr>\n",
       "    <tr>\n",
       "      <th>1</th>\n",
       "      <td>1752</td>\n",
       "      <td>1.499124</td>\n",
       "      <td>-0.180467</td>\n",
       "      <td>-0.137232</td>\n",
       "      <td>-0.194309</td>\n",
       "      <td>-0.153992</td>\n",
       "      <td>-0.096286</td>\n",
       "      <td>-0.18359</td>\n",
       "      <td>-0.413715</td>\n",
       "      <td>-0.232093</td>\n",
       "    </tr>\n",
       "    <tr>\n",
       "      <th>2</th>\n",
       "      <td>1753</td>\n",
       "      <td>1.499124</td>\n",
       "      <td>-0.180467</td>\n",
       "      <td>-0.137232</td>\n",
       "      <td>-0.194309</td>\n",
       "      <td>-0.153992</td>\n",
       "      <td>-0.096286</td>\n",
       "      <td>-0.18359</td>\n",
       "      <td>-0.413715</td>\n",
       "      <td>-0.232093</td>\n",
       "    </tr>\n",
       "    <tr>\n",
       "      <th>3</th>\n",
       "      <td>1754</td>\n",
       "      <td>1.499124</td>\n",
       "      <td>-0.180458</td>\n",
       "      <td>-0.137216</td>\n",
       "      <td>-0.194309</td>\n",
       "      <td>-0.153992</td>\n",
       "      <td>-0.096286</td>\n",
       "      <td>-0.18359</td>\n",
       "      <td>-0.413715</td>\n",
       "      <td>-0.232093</td>\n",
       "    </tr>\n",
       "    <tr>\n",
       "      <th>4</th>\n",
       "      <td>1755</td>\n",
       "      <td>1.499124</td>\n",
       "      <td>-0.180450</td>\n",
       "      <td>-0.137200</td>\n",
       "      <td>-0.194309</td>\n",
       "      <td>-0.153992</td>\n",
       "      <td>-0.096286</td>\n",
       "      <td>-0.18359</td>\n",
       "      <td>-0.413715</td>\n",
       "      <td>-0.232093</td>\n",
       "    </tr>\n",
       "  </tbody>\n",
       "</table>\n",
       "</div>"
      ],
      "text/plain": [
       "   Year   Country     Total  Solid Fuel  Liquid Fuel  Gas Fuel    Cement  \\\n",
       "0  1751  1.499124 -0.180476   -0.137248    -0.194309 -0.153992 -0.096286   \n",
       "1  1752  1.499124 -0.180467   -0.137232    -0.194309 -0.153992 -0.096286   \n",
       "2  1753  1.499124 -0.180467   -0.137232    -0.194309 -0.153992 -0.096286   \n",
       "3  1754  1.499124 -0.180458   -0.137216    -0.194309 -0.153992 -0.096286   \n",
       "4  1755  1.499124 -0.180450   -0.137200    -0.194309 -0.153992 -0.096286   \n",
       "\n",
       "   Gas Flaring  Per Capita  Bunker fuels (Not in Total)  \n",
       "0     -0.18359   -0.413715                    -0.232093  \n",
       "1     -0.18359   -0.413715                    -0.232093  \n",
       "2     -0.18359   -0.413715                    -0.232093  \n",
       "3     -0.18359   -0.413715                    -0.232093  \n",
       "4     -0.18359   -0.413715                    -0.232093  "
      ]
     },
     "execution_count": 14,
     "metadata": {},
     "output_type": "execute_result"
    }
   ],
   "source": [
    "Co2_data.head()"
   ]
  },
  {
   "cell_type": "code",
   "execution_count": 15,
   "id": "437d3629",
   "metadata": {},
   "outputs": [
    {
     "name": "stderr",
     "output_type": "stream",
     "text": [
      "C:\\Users\\NAYUDU.B\\anaconda3\\lib\\site-packages\\seaborn\\distributions.py:2557: FutureWarning: `distplot` is a deprecated function and will be removed in a future version. Please adapt your code to use either `displot` (a figure-level function with similar flexibility) or `histplot` (an axes-level function for histograms).\n",
      "  warnings.warn(msg, FutureWarning)\n"
     ]
    },
    {
     "data": {
      "image/png": "[encoded data removed]",
      "text/plain": [
       "<Figure size 432x288 with 1 Axes>"
      ]
     },
     "metadata": {
      "needs_background": "light"
     },
     "output_type": "display_data"
    }
   ],
   "source": [
    "sns.distplot(Co2_data)\n",
    "plt.show()"
   ]
  },
  {
   "cell_type": "code",
   "execution_count": 16,
   "id": "74cd31da",
   "metadata": {},
   "outputs": [
    {
     "data": {
      "text/html": [
       "<div>\n",
       "<style scoped>\n",
       "    .dataframe tbody tr th:only-of-type {\n",
       "        vertical-align: middle;\n",
       "    }\n",
       "\n",
       "    .dataframe tbody tr th {\n",
       "        vertical-align: top;\n",
       "    }\n",
       "\n",
       "    .dataframe thead th {\n",
       "        text-align: right;\n",
       "    }\n",
       "</style>\n",
       "<table border=\"1\" class=\"dataframe\">\n",
       "  <thead>\n",
       "    <tr style=\"text-align: right;\">\n",
       "      <th></th>\n",
       "      <th>Year</th>\n",
       "      <th>Country</th>\n",
       "      <th>Total</th>\n",
       "      <th>Solid Fuel</th>\n",
       "      <th>Liquid Fuel</th>\n",
       "      <th>Gas Fuel</th>\n",
       "      <th>Cement</th>\n",
       "      <th>Gas Flaring</th>\n",
       "      <th>Per Capita</th>\n",
       "      <th>Bunker fuels (Not in Total)</th>\n",
       "    </tr>\n",
       "  </thead>\n",
       "  <tbody>\n",
       "    <tr>\n",
       "      <th>0</th>\n",
       "      <td>1751</td>\n",
       "      <td>1.499124</td>\n",
       "      <td>-0.180476</td>\n",
       "      <td>-0.137248</td>\n",
       "      <td>-0.194309</td>\n",
       "      <td>-0.153992</td>\n",
       "      <td>-0.096286</td>\n",
       "      <td>-0.18359</td>\n",
       "      <td>-0.413715</td>\n",
       "      <td>-0.232093</td>\n",
       "    </tr>\n",
       "    <tr>\n",
       "      <th>1</th>\n",
       "      <td>1752</td>\n",
       "      <td>1.499124</td>\n",
       "      <td>-0.180467</td>\n",
       "      <td>-0.137232</td>\n",
       "      <td>-0.194309</td>\n",
       "      <td>-0.153992</td>\n",
       "      <td>-0.096286</td>\n",
       "      <td>-0.18359</td>\n",
       "      <td>-0.413715</td>\n",
       "      <td>-0.232093</td>\n",
       "    </tr>\n",
       "    <tr>\n",
       "      <th>2</th>\n",
       "      <td>1753</td>\n",
       "      <td>1.499124</td>\n",
       "      <td>-0.180467</td>\n",
       "      <td>-0.137232</td>\n",
       "      <td>-0.194309</td>\n",
       "      <td>-0.153992</td>\n",
       "      <td>-0.096286</td>\n",
       "      <td>-0.18359</td>\n",
       "      <td>-0.413715</td>\n",
       "      <td>-0.232093</td>\n",
       "    </tr>\n",
       "  </tbody>\n",
       "</table>\n",
       "</div>"
      ],
      "text/plain": [
       "   Year   Country     Total  Solid Fuel  Liquid Fuel  Gas Fuel    Cement  \\\n",
       "0  1751  1.499124 -0.180476   -0.137248    -0.194309 -0.153992 -0.096286   \n",
       "1  1752  1.499124 -0.180467   -0.137232    -0.194309 -0.153992 -0.096286   \n",
       "2  1753  1.499124 -0.180467   -0.137232    -0.194309 -0.153992 -0.096286   \n",
       "\n",
       "   Gas Flaring  Per Capita  Bunker fuels (Not in Total)  \n",
       "0     -0.18359   -0.413715                    -0.232093  \n",
       "1     -0.18359   -0.413715                    -0.232093  \n",
       "2     -0.18359   -0.413715                    -0.232093  "
      ]
     },
     "execution_count": 16,
     "metadata": {},
     "output_type": "execute_result"
    }
   ],
   "source": [
    "Co2_data.head(3)"
   ]
  },
  {
   "cell_type": "code",
   "execution_count": 17,
   "id": "8f89a26f",
   "metadata": {},
   "outputs": [
    {
     "data": {
      "image/png": "[encoded data removed]",
      "text/plain": [
       "<Figure size 720x720 with 2 Axes>"
      ]
     },
     "metadata": {
      "needs_background": "light"
     },
     "output_type": "display_data"
    }
   ],
   "source": [
    "plt.figure(figsize=(10,10))\n",
    "sns.heatmap(Co2_data.describe(),cmap='twilight_shifted_r',annot=True)\n",
    "plt.show()"
   ]
  },
  {
   "cell_type": "code",
   "execution_count": 18,
   "id": "edbc333a",
   "metadata": {},
   "outputs": [
    {
     "data": {
      "image/png": "[encoded data removed]",
      "text/plain": [
       "<Figure size 720x720 with 2 Axes>"
      ]
     },
     "metadata": {
      "needs_background": "light"
     },
     "output_type": "display_data"
    }
   ],
   "source": [
    "plt.figure(figsize=(10,10))\n",
    "sns.heatmap(Co2_data.corr(),cmap='Greens',annot=True)\n",
    "plt.show()"
   ]
  },
  {
   "cell_type": "code",
   "execution_count": 19,
   "id": "ae421c35",
   "metadata": {},
   "outputs": [],
   "source": [
    "from sklearn.model_selection import train_test_split\n",
    "from sklearn.svm import SVR"
   ]
  },
  {
   "cell_type": "code",
   "execution_count": 20,
   "id": "3362e021",
   "metadata": {},
   "outputs": [],
   "source": [
    "X_train,X_test,Y_train,Y_test=train_test_split(Co2_data.iloc[:,[3,4,5,6,7,8,9]],Co2_data.iloc[:,2])"
   ]
  },
  {
   "cell_type": "code",
   "execution_count": 21,
   "id": "c401e3af",
   "metadata": {},
   "outputs": [],
   "source": [
    "svr=SVR(kernel='rbf',\n",
    "    degree=3,\n",
    "    gamma='auto',\n",
    "    coef0=0.0,\n",
    "    tol=0.001,\n",
    "    C=20,\n",
    "   )"
   ]
  },
  {
   "cell_type": "code",
   "execution_count": 22,
   "id": "8056dcdf",
   "metadata": {},
   "outputs": [
    {
     "data": {
      "text/plain": [
       "SVR(C=20, gamma='auto')"
      ]
     },
     "execution_count": 22,
     "metadata": {},
     "output_type": "execute_result"
    }
   ],
   "source": [
    "svr.fit(X_train,Y_train)"
   ]
  },
  {
   "cell_type": "code",
   "execution_count": 23,
   "id": "50f32ac1",
   "metadata": {},
   "outputs": [],
   "source": [
    "m_pred=svr.predict(X_test)"
   ]
  },
  {
   "cell_type": "code",
   "execution_count": 24,
   "id": "be58b6df",
   "metadata": {},
   "outputs": [],
   "source": [
    "from sklearn.metrics import r2_score,mean_squared_error,mean_absolute_error,confusion_matrix"
   ]
  },
  {
   "cell_type": "code",
   "execution_count": 25,
   "id": "af641342",
   "metadata": {},
   "outputs": [
    {
     "data": {
      "text/plain": [
       "0.9831029482892526"
      ]
     },
     "execution_count": 25,
     "metadata": {},
     "output_type": "execute_result"
    }
   ],
   "source": [
    "r2_score(Y_test,m_pred)"
   ]
  },
  {
   "cell_type": "code",
   "execution_count": 26,
   "id": "2a899148",
   "metadata": {},
   "outputs": [
    {
     "data": {
      "text/plain": [
       "0.014430820563870956"
      ]
     },
     "execution_count": 26,
     "metadata": {},
     "output_type": "execute_result"
    }
   ],
   "source": [
    "mean_squared_error(Y_test,m_pred)"
   ]
  },
  {
   "cell_type": "code",
   "execution_count": 27,
   "id": "9d1464ef",
   "metadata": {},
   "outputs": [
    {
     "data": {
      "text/plain": [
       "0.05791686831063242"
      ]
     },
     "execution_count": 27,
     "metadata": {},
     "output_type": "execute_result"
    }
   ],
   "source": [
    "mean_absolute_error(Y_test,m_pred)"
   ]
  },
  {
   "cell_type": "code",
   "execution_count": 28,
   "id": "c87450b2",
   "metadata": {},
   "outputs": [
    {
     "name": "stderr",
     "output_type": "stream",
     "text": [
      "C:\\Users\\NAYUDU.B\\anaconda3\\lib\\site-packages\\seaborn\\distributions.py:2557: FutureWarning: `distplot` is a deprecated function and will be removed in a future version. Please adapt your code to use either `displot` (a figure-level function with similar flexibility) or `histplot` (an axes-level function for histograms).\n",
      "  warnings.warn(msg, FutureWarning)\n"
     ]
    },
    {
     "data": {
      "image/png": "[encoded data removed]",
      "text/plain": [
       "<Figure size 432x288 with 1 Axes>"
      ]
     },
     "metadata": {
      "needs_background": "light"
     },
     "output_type": "display_data"
    }
   ],
   "source": [
    "sns.distplot(Y_test-m_pred)\n",
    "plt.show()"
   ]
  },
  {
   "cell_type": "code",
   "execution_count": 29,
   "id": "0d494d21",
   "metadata": {},
   "outputs": [
    {
     "data": {
      "image/png": "[encoded data removed]",
      "text/plain": [
       "<Figure size 432x288 with 1 Axes>"
      ]
     },
     "metadata": {
      "needs_background": "light"
     },
     "output_type": "display_data"
    }
   ],
   "source": [
    "plt.scatter(Y_test,m_pred,c='g')\n",
    "plt.show()"
   ]
  },
  {
   "cell_type": "code",
   "execution_count": null,
   "id": "b08fd5a4",
   "metadata": {},
   "outputs": [],
   "source": []
  },
  {
   "cell_type": "code",
   "execution_count": null,
   "id": "98e218b9",
   "metadata": {},
   "outputs": [],
   "source": []
  }
 ],
 "metadata": {
  "kernelspec": {
   "display_name": "Python 3",
   "language": "python",
   "name": "python3"
  },
  "language_info": {
   "codemirror_mode": {
    "name": "ipython",
    "version": 3
   },
   "file_extension": ".py",
   "mimetype": "text/x-python",
   "name": "python",
   "nbconvert_exporter": "python",
   "pygments_lexer": "ipython3",
   "version": "3.8.8"
  }
 },
 "nbformat": 4,
 "nbformat_minor": 5
}
